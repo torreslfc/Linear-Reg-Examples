{
 "cells": [
  {
   "cell_type": "code",
   "execution_count": 5,
   "metadata": {
    "collapsed": false
   },
   "outputs": [],
   "source": [
    "import matplotlib.pyplot as plt\n",
    "import numpy as np\n",
    "import pandas as pd\n",
    "from sklearn import linear_model, cross_validation\n",
    "import math\n",
    "data = pd.read_csv(\"hw3q3.csv\")\n",
    "from sklearn import metrics\n",
    "# Special packages\n",
    "import statsmodels.api as sm\n",
    "from patsy import dmatrices\n",
    "\n"
   ]
  },
  {
   "cell_type": "code",
   "execution_count": 6,
   "metadata": {
    "collapsed": false
   },
   "outputs": [
    {
     "name": "stdout",
     "output_type": "stream",
     "text": [
      "Coefficients:\n",
      "[[ 0.          4.22824399  7.43610969]]\n",
      "\n",
      "Variance score: 0.95\n",
      "\n",
      "RMSE After 10-fold CV : \n",
      "8.0024472134\n"
     ]
    }
   ],
   "source": [
    "# Model 1: Create design matrices and fitting the model\n",
    "\n",
    "y, X = dmatrices('Y ~ X1 + X2', data=data, return_type='dataframe')\n",
    "\n",
    "regr = linear_model.LinearRegression()\n",
    "clf = regr.fit(X, y)\n",
    "scores = cross_validation.cross_val_score(clf, X, y, cv=10,scoring='neg_mean_squared_error')\n",
    "\n",
    "print('Coefficients:')\n",
    "print regr.coef_\n",
    "print\n",
    "#Explained variance score: 1 is perfect prediction\n",
    "print('Variance score: %.2f' % regr.score(X, y))\n",
    "print \n",
    "print ('RMSE After 10-fold CV : ')\n",
    "print np.mean(np.sqrt(abs(scores)))\n",
    "\n",
    "\n"
   ]
  },
  {
   "cell_type": "code",
   "execution_count": 7,
   "metadata": {
    "collapsed": false
   },
   "outputs": [
    {
     "name": "stdout",
     "output_type": "stream",
     "text": [
      "Coefficients:\n",
      "[[ 0.          3.66160401  7.62105126  0.82846807]]\n",
      "\n",
      "Variance score: 0.97\n",
      "\n",
      "RMSE After 10-fold CV : \n",
      "8.61536161692\n"
     ]
    }
   ],
   "source": [
    "# Model 2: Create design matrices and fitting the model\n",
    "\n",
    "y, X = dmatrices('Y ~ X1 + X2 + X3', data=data, return_type='dataframe')\n",
    "\n",
    "regr = linear_model.LinearRegression()\n",
    "clf = regr.fit(X, y)\n",
    "scores = cross_validation.cross_val_score(clf, X, y, cv=10,scoring='neg_mean_squared_error')\n",
    "\n",
    "print('Coefficients:')\n",
    "print regr.coef_\n",
    "print\n",
    "#Explained variance score: 1 is perfect prediction\n",
    "print('Variance score: %.2f' % regr.score(X, y))\n",
    "print \n",
    "print ('RMSE After 10-fold CV : ')\n",
    "print np.mean(np.sqrt(abs(scores)))\n",
    "\n"
   ]
  }
 ],
 "metadata": {
  "kernelspec": {
   "display_name": "Python [Root]",
   "language": "python",
   "name": "Python [Root]"
  },
  "language_info": {
   "codemirror_mode": {
    "name": "ipython",
    "version": 2
   },
   "file_extension": ".py",
   "mimetype": "text/x-python",
   "name": "python",
   "nbconvert_exporter": "python",
   "pygments_lexer": "ipython2",
   "version": "2.7.12"
  }
 },
 "nbformat": 4,
 "nbformat_minor": 0
}
